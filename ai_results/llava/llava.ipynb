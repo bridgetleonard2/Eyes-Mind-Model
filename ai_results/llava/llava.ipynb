{
 "cells": [
  {
   "cell_type": "code",
   "execution_count": 1,
   "metadata": {},
   "outputs": [
    {
     "name": "stderr",
     "output_type": "stream",
     "text": [
      "c:\\Users\\Bridget Leonard\\AppData\\Local\\Programs\\Python\\Python311\\Lib\\site-packages\\tqdm\\auto.py:21: TqdmWarning: IProgress not found. Please update jupyter and ipywidgets. See https://ipywidgets.readthedocs.io/en/stable/user_install.html\n",
      "  from .autonotebook import tqdm as notebook_tqdm\n",
      "`AnnotionFormat` is deprecated and will be removed in v4.38. Please use `transformers.image_utils.AnnotationFormat` instead.\n"
     ]
    },
    {
     "name": "stdout",
     "output_type": "stream",
     "text": [
      "WARNING:tensorflow:From c:\\Users\\Bridget Leonard\\AppData\\Local\\Programs\\Python\\Python311\\Lib\\site-packages\\keras\\src\\losses.py:2976: The name tf.losses.sparse_softmax_cross_entropy is deprecated. Please use tf.compat.v1.losses.sparse_softmax_cross_entropy instead.\n",
      "\n"
     ]
    }
   ],
   "source": [
    "# Use a pipeline as a high-level helper\n",
    "from transformers import pipeline\n",
    "from PIL import Image\n",
    "import requests\n",
    "import os"
   ]
  },
  {
   "cell_type": "code",
   "execution_count": 2,
   "metadata": {},
   "outputs": [
    {
     "name": "stderr",
     "output_type": "stream",
     "text": [
      "Loading checkpoint shards: 100%|██████████| 6/6 [00:55<00:00,  9.19s/it]\n",
      "Special tokens have been added in the vocabulary, make sure the associated word embeddings are fine-tuned or trained.\n"
     ]
    }
   ],
   "source": [
    "# Use a pipeline as a high-level helper\n",
    "from transformers import pipeline\n",
    "\n",
    "pipe = pipeline(\"image-to-text\", model=\"llava-hf/llava-1.5-13b-hf\")"
   ]
  },
  {
   "cell_type": "code",
   "execution_count": 11,
   "metadata": {},
   "outputs": [
    {
     "name": "stdout",
     "output_type": "stream",
     "text": [
      "Bored\n"
     ]
    }
   ],
   "source": [
    "image = Image.open(\"BL//01-playful_comforting_irritated_bored.png\")\n",
    "answers = \"playful, comforting, irritated, bored\"\n",
    "prompt = f'''USER: <image>\n",
    "Choose which word best describes what the person in the picture is thinking or feeling based \n",
    "on just their eyes alone. \n",
    "You may feel that more than one word is applicable, \n",
    "but please choose just one word, the word \n",
    "which you consider to be most suitable. \n",
    "Your 4 choices are: {answers}\n",
    "ASSISTANT:'''\n",
    "\n",
    "outputs = pipe(image, prompt=prompt, generate_kwargs={\"max_new_tokens\": 200})\n",
    "result = [line.split(':')[-1].strip() for line in outputs[0]['generated_text'].split('\\n')][-1]\n",
    "print(result)"
   ]
  },
  {
   "cell_type": "code",
   "execution_count": 3,
   "metadata": {},
   "outputs": [],
   "source": [
    "# Run the model\n",
    "def inputs(image_folder, word_options):\n",
    "# Get images\n",
    "    images = []\n",
    "    if os.path.exists(image_folder):\n",
    "        items = os.listdir(image_folder)\n",
    "\n",
    "        for item in items:\n",
    "            item_path = os.path.join(image_folder, item)\n",
    "            images.append(Image.open(str(item_path)).convert('RGB'))\n",
    "    \n",
    "    # Get text\n",
    "    questions = {}\n",
    "    with open(word_options, 'r') as txtfile:\n",
    "\n",
    "            for i, line in enumerate(txtfile):\n",
    "                    questions[f\"Question {i+1}\"] = line.strip()\n",
    "    \n",
    "    return images, questions"
   ]
  },
  {
   "cell_type": "code",
   "execution_count": 4,
   "metadata": {},
   "outputs": [],
   "source": [
    "images, questions = inputs('regular', 'wordOptions.txt')"
   ]
  },
  {
   "cell_type": "code",
   "execution_count": 5,
   "metadata": {},
   "outputs": [],
   "source": [
    "def run_model(images, questions):\n",
    "    responses = {}\n",
    "    for image in images:\n",
    "        for question, answers in questions.items():\n",
    "            prompt = f'''USER: <image>\n",
    "            Choose which word best describes what the person in the picture is thinking or feeling based \n",
    "            on just their eyes alone. \n",
    "            You may feel that more than one word is applicable, \n",
    "            but please choose just one word, the word \n",
    "            which you consider to be most suitable. \n",
    "            Your 4 choices are: {answers}\n",
    "            ASSISTANT:'''\n",
    "\n",
    "            outputs = pipe(image, prompt=prompt, generate_kwargs={\"max_new_tokens\": 200})\n",
    "            result = [line.split(':')[-1].strip() for line in outputs[0]['generated_text'].split('\\n')][-1]\n",
    "            print(result)\n",
    "            responses[question] = result\n",
    "\n",
    "    return responses"
   ]
  },
  {
   "cell_type": "code",
   "execution_count": 6,
   "metadata": {},
   "outputs": [
    {
     "name": "stdout",
     "output_type": "stream",
     "text": [
      "Bored\n",
      "Upset\n",
      "Convinced\n",
      "Insisting\n",
      "worried\n",
      "Alarmed\n",
      "Uneasy\n",
      "Despondent\n",
      "Horrified\n",
      "Bored\n",
      "Amused\n",
      "Skeptical\n",
      "Decisive\n",
      "Accusing\n",
      "Contemplative\n",
      "Thoughtful\n",
      "aghast\n",
      "Decisive\n",
      "Tentative\n",
      "Horrified\n",
      "Confused\n",
      "Insisting\n",
      "Curious\n",
      "Pensive\n",
      "Panicked\n",
      "Anxious\n",
      "Cautious\n",
      "Contented\n",
      "Reflective\n",
      "Disappointed\n",
      "Confident\n",
      "Bewildered\n",
      "concerned\n",
      "Baffled\n",
      "contemplative\n",
      "Suspicious\n",
      "Irritated\n",
      "Upset\n",
      "Flustered\n",
      "Insisting\n",
      "worried\n",
      "Alarmed\n",
      "Uneasy\n",
      "Despondent\n"
     ]
    }
   ],
   "source": [
    "responses = run_model(images, questions)"
   ]
  },
  {
   "cell_type": "code",
   "execution_count": null,
   "metadata": {},
   "outputs": [],
   "source": [
    "responses"
   ]
  },
  {
   "cell_type": "code",
   "execution_count": null,
   "metadata": {},
   "outputs": [],
   "source": []
  }
 ],
 "metadata": {
  "kernelspec": {
   "display_name": "Python 3",
   "language": "python",
   "name": "python3"
  },
  "language_info": {
   "codemirror_mode": {
    "name": "ipython",
    "version": 3
   },
   "file_extension": ".py",
   "mimetype": "text/x-python",
   "name": "python",
   "nbconvert_exporter": "python",
   "pygments_lexer": "ipython3",
   "version": "3.11.7"
  }
 },
 "nbformat": 4,
 "nbformat_minor": 2
}
