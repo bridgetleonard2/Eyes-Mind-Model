{
 "cells": [
  {
   "cell_type": "code",
   "execution_count": 1,
   "metadata": {},
   "outputs": [
    {
     "name": "stderr",
     "output_type": "stream",
     "text": [
      "c:\\Users\\Bridget Leonard\\AppData\\Local\\Programs\\Python\\Python311\\Lib\\site-packages\\tqdm\\auto.py:21: TqdmWarning: IProgress not found. Please update jupyter and ipywidgets. See https://ipywidgets.readthedocs.io/en/stable/user_install.html\n",
      "  from .autonotebook import tqdm as notebook_tqdm\n",
      "`AnnotionFormat` is deprecated and will be removed in v4.38. Please use `transformers.image_utils.AnnotationFormat` instead.\n"
     ]
    },
    {
     "name": "stdout",
     "output_type": "stream",
     "text": [
      "WARNING:tensorflow:From c:\\Users\\Bridget Leonard\\AppData\\Local\\Programs\\Python\\Python311\\Lib\\site-packages\\keras\\src\\losses.py:2976: The name tf.losses.sparse_softmax_cross_entropy is deprecated. Please use tf.compat.v1.losses.sparse_softmax_cross_entropy instead.\n",
      "\n"
     ]
    }
   ],
   "source": [
    "# Use a pipeline as a high-level helper\n",
    "from transformers import pipeline\n",
    "from PIL import Image\n",
    "import requests\n",
    "import os"
   ]
  },
  {
   "cell_type": "code",
   "execution_count": 2,
   "metadata": {},
   "outputs": [
    {
     "name": "stderr",
     "output_type": "stream",
     "text": [
      "config.json: 100%|██████████| 1.09k/1.09k [00:00<?, ?B/s]\n",
      "c:\\Users\\Bridget Leonard\\AppData\\Local\\Programs\\Python\\Python311\\Lib\\site-packages\\huggingface_hub\\file_download.py:147: UserWarning: `huggingface_hub` cache-system uses symlinks by default to efficiently store duplicated files but your machine does not support them in C:\\Users\\Bridget Leonard\\.cache\\huggingface\\hub. Caching files will still work but in a degraded version that might require more space on your disk. This warning can be disabled by setting the `HF_HUB_DISABLE_SYMLINKS_WARNING` environment variable. For more details, see https://huggingface.co/docs/huggingface_hub/how-to-cache#limitations.\n",
      "To support symlinks on Windows, you either need to activate Developer Mode or to run Python as an administrator. In order to see activate developer mode, see this article: https://docs.microsoft.com/en-us/windows/apps/get-started/enable-your-device-for-development\n",
      "  warnings.warn(message)\n",
      "model.safetensors.index.json: 100%|██████████| 77.2k/77.2k [00:00<00:00, 12.7MB/s]\n",
      "model-00001-of-00006.safetensors: 100%|██████████| 4.96G/4.96G [02:08<00:00, 38.5MB/s]\n",
      "model-00002-of-00006.safetensors: 100%|██████████| 4.97G/4.97G [02:02<00:00, 40.5MB/s]\n",
      "model-00003-of-00006.safetensors: 100%|██████████| 4.88G/4.88G [02:05<00:00, 38.9MB/s]\n",
      "model-00004-of-00006.safetensors: 100%|██████████| 4.93G/4.93G [02:05<00:00, 39.4MB/s]\n",
      "model-00005-of-00006.safetensors: 100%|██████████| 4.93G/4.93G [01:52<00:00, 43.8MB/s]\n",
      "model-00006-of-00006.safetensors: 100%|██████████| 2.02G/2.02G [00:41<00:00, 48.7MB/s]\n",
      "Downloading shards: 100%|██████████| 6/6 [10:57<00:00, 109.65s/it]\n",
      "Loading checkpoint shards: 100%|██████████| 6/6 [02:51<00:00, 28.53s/it]\n",
      "generation_config.json: 100%|██████████| 141/141 [00:00<?, ?B/s] \n",
      "tokenizer_config.json: 100%|██████████| 1.33k/1.33k [00:00<00:00, 957kB/s]\n",
      "tokenizer.model: 100%|██████████| 500k/500k [00:00<00:00, 56.5MB/s]\n",
      "tokenizer.json: 100%|██████████| 1.84M/1.84M [00:00<00:00, 9.19MB/s]\n",
      "added_tokens.json: 100%|██████████| 41.0/41.0 [00:00<?, ?B/s]\n",
      "special_tokens_map.json: 100%|██████████| 438/438 [00:00<?, ?B/s] \n",
      "Special tokens have been added in the vocabulary, make sure the associated word embeddings are fine-tuned or trained.\n",
      "preprocessor_config.json: 100%|██████████| 557/557 [00:00<00:00, 2.20MB/s]\n"
     ]
    }
   ],
   "source": [
    "# Use a pipeline as a high-level helper\n",
    "from transformers import pipeline\n",
    "\n",
    "pipe = pipeline(\"image-to-text\", model=\"llava-hf/llava-1.5-13b-hf\")"
   ]
  },
  {
   "cell_type": "code",
   "execution_count": 4,
   "metadata": {},
   "outputs": [],
   "source": [
    "# Run the model\n",
    "def inputs(image_folder, word_options):\n",
    "# Get images\n",
    "    images = []\n",
    "    if os.path.exists(image_folder):\n",
    "        items = os.listdir(image_folder)\n",
    "\n",
    "        for item in items:\n",
    "            item_path = os.path.join(image_folder, item)\n",
    "            images.append(Image.open(str(item_path)).convert('RGB'))\n",
    "    \n",
    "    # Get text\n",
    "    questions = {}\n",
    "    with open(word_options, 'r') as txtfile:\n",
    "\n",
    "            for i, line in enumerate(txtfile):\n",
    "                    questions[f\"Question {i+1}\"] = line.strip()\n",
    "    \n",
    "    return images, questions"
   ]
  },
  {
   "cell_type": "code",
   "execution_count": 7,
   "metadata": {},
   "outputs": [
    {
     "data": {
      "text/plain": [
       "'c:\\\\Users\\\\Bridget Leonard\\\\Desktop\\\\eyes_emotion\\\\ai_results\\\\llava'"
      ]
     },
     "execution_count": 7,
     "metadata": {},
     "output_type": "execute_result"
    }
   ],
   "source": [
    "os.getcwd()"
   ]
  },
  {
   "cell_type": "code",
   "execution_count": 8,
   "metadata": {},
   "outputs": [],
   "source": [
    "os.chdir(\"../..\")"
   ]
  },
  {
   "cell_type": "code",
   "execution_count": 9,
   "metadata": {},
   "outputs": [],
   "source": [
    "images, questions = inputs('task_materials/regular', 'task_materials/wordOptions.txt')"
   ]
  },
  {
   "cell_type": "code",
   "execution_count": 11,
   "metadata": {},
   "outputs": [],
   "source": [
    "def run_model(images, questions):\n",
    "    responses = {}\n",
    "    for image in images:\n",
    "        for question, answers in questions.items():\n",
    "            prompt = f'''USER: <image>\n",
    "            Choose which word best describes what the person in the picture is thinking or feeling based \n",
    "            on just their eyes alone. \n",
    "            You may feel that more than one word is applicable, \n",
    "            but please choose just one word, the word \n",
    "            which you consider to be most suitable. \n",
    "            Your 4 choices are: {answers}\n",
    "            ASSISTANT:'''\n",
    "\n",
    "            outputs = pipe(image, prompt=prompt, generate_kwargs={\"max_new_tokens\": 200})\n",
    "            result = [line.split(':')[-1].strip() for line in outputs[0]['generated_text'].split('\\n')][-1]\n",
    "            print(result)\n",
    "            responses[question] = result\n",
    "\n",
    "    return responses"
   ]
  },
  {
   "cell_type": "code",
   "execution_count": 12,
   "metadata": {},
   "outputs": [
    {
     "name": "stdout",
     "output_type": "stream",
     "text": [
      "Bored\n",
      "Upset\n",
      "Convinced\n",
      "Insisting\n",
      "worried\n",
      "Alarmed\n",
      "Uneasy\n",
      "Despondent\n",
      "Horrified\n",
      "Bored\n",
      "Amused\n",
      "Skeptical\n",
      "Decisive\n",
      "Accusing\n",
      "Contemplative\n",
      "Thoughtful\n",
      "aghast\n",
      "Decisive\n",
      "Tentative\n",
      "Horrified\n",
      "Confused\n",
      "Insisting\n",
      "Curious\n",
      "Pensive\n",
      "Panicked\n",
      "Anxious\n",
      "Cautious\n",
      "Contented\n"
     ]
    },
    {
     "ename": "",
     "evalue": "",
     "output_type": "error",
     "traceback": [
      "\u001b[1;31mThe Kernel crashed while executing code in the current cell or a previous cell. \n",
      "\u001b[1;31mPlease review the code in the cell(s) to identify a possible cause of the failure. \n",
      "\u001b[1;31mClick <a href='https://aka.ms/vscodeJupyterKernelCrash'>here</a> for more info. \n",
      "\u001b[1;31mView Jupyter <a href='command:jupyter.viewOutput'>log</a> for further details."
     ]
    }
   ],
   "source": [
    "responses = run_model(images, questions)"
   ]
  },
  {
   "cell_type": "code",
   "execution_count": null,
   "metadata": {},
   "outputs": [],
   "source": [
    "responses"
   ]
  },
  {
   "cell_type": "code",
   "execution_count": null,
   "metadata": {},
   "outputs": [],
   "source": []
  }
 ],
 "metadata": {
  "kernelspec": {
   "display_name": "Python 3",
   "language": "python",
   "name": "python3"
  },
  "language_info": {
   "codemirror_mode": {
    "name": "ipython",
    "version": 3
   },
   "file_extension": ".py",
   "mimetype": "text/x-python",
   "name": "python",
   "nbconvert_exporter": "python",
   "pygments_lexer": "ipython3",
   "version": "3.11.7"
  }
 },
 "nbformat": 4,
 "nbformat_minor": 2
}
