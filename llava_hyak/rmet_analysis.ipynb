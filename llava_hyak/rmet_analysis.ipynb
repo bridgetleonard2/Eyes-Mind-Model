{
 "cells": [
  {
   "cell_type": "code",
   "execution_count": 187,
   "metadata": {},
   "outputs": [],
   "source": [
    "import pandas as pd\n",
    "import matplotlib.pyplot as plt"
   ]
  },
  {
   "cell_type": "markdown",
   "metadata": {},
   "source": [
    "## Fine-Tuning LLaVA on the RMET"
   ]
  },
  {
   "cell_type": "markdown",
   "metadata": {},
   "source": [
    "We are looking at our results of fine-tuning the LLaVA model on the RMET task. We are looking at 5 different versions of the models: the base model and 4 fine-tuned models with different levels of training. "
   ]
  },
  {
   "cell_type": "markdown",
   "metadata": {},
   "source": [
    "### 1 RMET data"
   ]
  },
  {
   "cell_type": "markdown",
   "metadata": {},
   "source": [
    "#### 1.1 Loading and checking the data"
   ]
  },
  {
   "cell_type": "code",
   "execution_count": 255,
   "metadata": {},
   "outputs": [],
   "source": [
    "local_base1 = pd.read_csv('rmet_results/rmet_local_base-1.txt')\n",
    "local_base2 = pd.read_csv('rmet_results/rmet_local_base-2.txt')\n",
    "local_base3 = pd.read_csv('rmet_results/rmet_local_base-3.txt')\n",
    "\n",
    "HPC_base1 = pd.read_csv('rmet_results/rmet_HPC_base-1.txt')\n",
    "HPC_base2 = pd.read_csv('rmet_results/rmet_HPC_base-2.txt')\n",
    "HPC_base3 = pd.read_csv('rmet_results/rmet_HPC_base-3.txt')\n",
    "HPC_base4 = pd.read_csv('rmet_results/rmet_HPC_base-4.txt')\n",
    "HPC_base5 = pd.read_csv('rmet_results/rmet_HPC_base-5.txt')\n",
    "\n",
    "\n",
    "ep1_1 = pd.read_csv('rmet_results/rmet_1ep-1.txt')\n",
    "ep1_2 = pd.read_csv('rmet_results/rmet_1ep-2.txt')\n",
    "ep1_3 = pd.read_csv('rmet_results/rmet_1ep-3.txt')\n",
    "ep1_4 = pd.read_csv('rmet_results/rmet_1ep-4.txt')\n",
    "ep1_5 = pd.read_csv('rmet_results/rmet_1ep-5.txt')\n",
    "\n",
    "ep5_1 = pd.read_csv('rmet_results/rmet_5ep-1.txt')\n",
    "ep5_2 = pd.read_csv('rmet_results/rmet_5ep-2.txt')\n",
    "ep5_3 = pd.read_csv('rmet_results/rmet_5ep-3.txt')\n",
    "ep5_4 = pd.read_csv('rmet_results/rmet_5ep-4.txt')\n",
    "ep5_5 = pd.read_csv('rmet_results/rmet_5ep-5.txt')\n",
    "\n",
    "ep7_1 = pd.read_csv('rmet_results/rmet_7ep-1.txt')\n",
    "ep7_2 = pd.read_csv('rmet_results/rmet_7ep-2.txt')\n",
    "ep7_3 = pd.read_csv('rmet_results/rmet_7ep-3.txt')\n",
    "ep7_4 = pd.read_csv('rmet_results/rmet_7ep-4.txt')\n",
    "ep7_5 = pd.read_csv('rmet_results/rmet_7ep-5.txt')\n",
    "\n",
    "ep10_1 = pd.read_csv('rmet_results/rmet_10ep-1.txt')\n",
    "ep10_2 = pd.read_csv('rmet_results/rmet_10ep-2.txt')\n",
    "ep10_3 = pd.read_csv('rmet_results/rmet_10ep-3.txt')"
   ]
  },
  {
   "cell_type": "code",
   "execution_count": 256,
   "metadata": {},
   "outputs": [],
   "source": [
    "rmet = pd.concat([local_base1, local_base2, local_base3,\n",
    "                  HPC_base1, HPC_base2, HPC_base3, HPC_base4, HPC_base5,\n",
    "                  ep1_1, ep1_2, ep1_3, ep1_4, ep1_5, \n",
    "                  ep5_1, ep5_2, ep5_3, ep5_4, ep5_5, \n",
    "                  ep7_1, ep7_2, ep7_3, ep7_4, ep7_5,\n",
    "                  ep10_1, ep10_2, ep10_3], axis=1)"
   ]
  },
  {
   "cell_type": "markdown",
   "metadata": {},
   "source": [
    "### 2 Task performance\n"
   ]
  },
  {
   "cell_type": "markdown",
   "metadata": {},
   "source": [
    "#### 2.1 Load answers"
   ]
  },
  {
   "cell_type": "code",
   "execution_count": 257,
   "metadata": {},
   "outputs": [],
   "source": [
    "answers_file = 'rmet_materials/answers.txt'\n",
    "with open(answers_file, 'r') as file:\n",
    "    answers = [line.strip() for line in file.readlines()]"
   ]
  },
  {
   "cell_type": "code",
   "execution_count": 258,
   "metadata": {},
   "outputs": [
    {
     "data": {
      "text/plain": [
       "['playful',\n",
       " 'upset',\n",
       " 'desire',\n",
       " 'insisting',\n",
       " 'worried',\n",
       " 'fantasizing',\n",
       " 'uneasy',\n",
       " 'despondent',\n",
       " 'preoccupied',\n",
       " 'cautious']"
      ]
     },
     "execution_count": 258,
     "metadata": {},
     "output_type": "execute_result"
    }
   ],
   "source": [
    "answers[:10]"
   ]
  },
  {
   "cell_type": "markdown",
   "metadata": {},
   "source": [
    "#### 2.2 Check responses"
   ]
  },
  {
   "cell_type": "code",
   "execution_count": 259,
   "metadata": {},
   "outputs": [],
   "source": [
    "performance = rmet.copy()"
   ]
  },
  {
   "cell_type": "code",
   "execution_count": 260,
   "metadata": {},
   "outputs": [],
   "source": [
    "for model in performance.columns:\n",
    "    performance[model] = [1 if performance[model][i] == answers[i] else 0 for i in range(len(answers))]"
   ]
  },
  {
   "cell_type": "markdown",
   "metadata": {},
   "source": [
    "#### 2.3 Calculate number correct"
   ]
  },
  {
   "cell_type": "code",
   "execution_count": 261,
   "metadata": {},
   "outputs": [],
   "source": [
    "num_correct = performance.sum(axis=0)"
   ]
  },
  {
   "cell_type": "code",
   "execution_count": 262,
   "metadata": {},
   "outputs": [
    {
     "data": {
      "text/plain": [
       "llava_local_base-1    17\n",
       "llava_local_base-2    17\n",
       "llava_local_base-3    17\n",
       "llava_HPC_base-1      20\n",
       "llava_HPC_base-2      20\n",
       "llava_HPC_base-3      20\n",
       "llava_HPC_base-4      20\n",
       "llava_HPC_base-5      19\n",
       "llava_1ep-1           22\n",
       "llava_1ep-2           20\n",
       "llava_1ep-3           21\n",
       "llava_1ep-4           21\n",
       "llava_1ep-5           21\n",
       "llava_5ep-1           20\n",
       "llava_5ep-2           23\n",
       "llava_5ep-3           21\n",
       "llava_5ep-4           22\n",
       "llava_5ep-5           21\n",
       "llava_7ep-1           22\n",
       "llava_7ep-2           20\n",
       "llava_7ep-3           22\n",
       "llava_7ep-4           21\n",
       "llava_7ep-5           22\n",
       "llava_10ep-1          22\n",
       "llava_10ep-2          21\n",
       "llava_10ep-3          21\n",
       "dtype: int64"
      ]
     },
     "execution_count": 262,
     "metadata": {},
     "output_type": "execute_result"
    }
   ],
   "source": [
    "num_correct"
   ]
  },
  {
   "cell_type": "markdown",
   "metadata": {},
   "source": [
    "#### 2.4 Calculate Performance Increase (from base model)"
   ]
  },
  {
   "cell_type": "code",
   "execution_count": 263,
   "metadata": {},
   "outputs": [],
   "source": [
    "increase_performance = pd.DataFrame(num_correct)\n",
    "increase_performance.columns = ['num_correct']"
   ]
  },
  {
   "cell_type": "code",
   "execution_count": 264,
   "metadata": {},
   "outputs": [],
   "source": [
    "# Merge model types\n",
    "increase_performance['model'] = [idx.split('-')[0] for idx in increase_performance.index]\n"
   ]
  },
  {
   "cell_type": "code",
   "execution_count": 265,
   "metadata": {},
   "outputs": [],
   "source": [
    "model_performance = increase_performance.groupby('model')['num_correct'].mean()"
   ]
  },
  {
   "cell_type": "code",
   "execution_count": 266,
   "metadata": {},
   "outputs": [],
   "source": [
    "model_performance = model_performance.reset_index()\n",
    "model_performance.columns = ['model', 'num_correct']"
   ]
  },
  {
   "cell_type": "code",
   "execution_count": 267,
   "metadata": {},
   "outputs": [
    {
     "data": {
      "text/html": [
       "<div>\n",
       "<style scoped>\n",
       "    .dataframe tbody tr th:only-of-type {\n",
       "        vertical-align: middle;\n",
       "    }\n",
       "\n",
       "    .dataframe tbody tr th {\n",
       "        vertical-align: top;\n",
       "    }\n",
       "\n",
       "    .dataframe thead th {\n",
       "        text-align: right;\n",
       "    }\n",
       "</style>\n",
       "<table border=\"1\" class=\"dataframe\">\n",
       "  <thead>\n",
       "    <tr style=\"text-align: right;\">\n",
       "      <th></th>\n",
       "      <th>model</th>\n",
       "      <th>num_correct</th>\n",
       "    </tr>\n",
       "  </thead>\n",
       "  <tbody>\n",
       "    <tr>\n",
       "      <th>0</th>\n",
       "      <td>llava_10ep</td>\n",
       "      <td>21.333333</td>\n",
       "    </tr>\n",
       "    <tr>\n",
       "      <th>1</th>\n",
       "      <td>llava_1ep</td>\n",
       "      <td>21.000000</td>\n",
       "    </tr>\n",
       "    <tr>\n",
       "      <th>2</th>\n",
       "      <td>llava_5ep</td>\n",
       "      <td>21.400000</td>\n",
       "    </tr>\n",
       "    <tr>\n",
       "      <th>3</th>\n",
       "      <td>llava_7ep</td>\n",
       "      <td>21.400000</td>\n",
       "    </tr>\n",
       "    <tr>\n",
       "      <th>4</th>\n",
       "      <td>llava_HPC_base</td>\n",
       "      <td>19.800000</td>\n",
       "    </tr>\n",
       "    <tr>\n",
       "      <th>5</th>\n",
       "      <td>llava_local_base</td>\n",
       "      <td>17.000000</td>\n",
       "    </tr>\n",
       "  </tbody>\n",
       "</table>\n",
       "</div>"
      ],
      "text/plain": [
       "              model  num_correct\n",
       "0        llava_10ep    21.333333\n",
       "1         llava_1ep    21.000000\n",
       "2         llava_5ep    21.400000\n",
       "3         llava_7ep    21.400000\n",
       "4    llava_HPC_base    19.800000\n",
       "5  llava_local_base    17.000000"
      ]
     },
     "execution_count": 267,
     "metadata": {},
     "output_type": "execute_result"
    }
   ],
   "source": [
    "model_performance"
   ]
  },
  {
   "cell_type": "code",
   "execution_count": 268,
   "metadata": {},
   "outputs": [],
   "source": [
    "model_performance['percent'] = model_performance['num_correct'].apply(lambda x: x / 36)\n",
    "model_performance['improvement'] = model_performance['percent'].apply(lambda x: x - model_performance.iloc[5, 2])"
   ]
  },
  {
   "cell_type": "code",
   "execution_count": 269,
   "metadata": {},
   "outputs": [
    {
     "data": {
      "text/html": [
       "<div>\n",
       "<style scoped>\n",
       "    .dataframe tbody tr th:only-of-type {\n",
       "        vertical-align: middle;\n",
       "    }\n",
       "\n",
       "    .dataframe tbody tr th {\n",
       "        vertical-align: top;\n",
       "    }\n",
       "\n",
       "    .dataframe thead th {\n",
       "        text-align: right;\n",
       "    }\n",
       "</style>\n",
       "<table border=\"1\" class=\"dataframe\">\n",
       "  <thead>\n",
       "    <tr style=\"text-align: right;\">\n",
       "      <th></th>\n",
       "      <th>model</th>\n",
       "      <th>num_correct</th>\n",
       "      <th>percent</th>\n",
       "      <th>improvement</th>\n",
       "    </tr>\n",
       "  </thead>\n",
       "  <tbody>\n",
       "    <tr>\n",
       "      <th>0</th>\n",
       "      <td>llava_10ep</td>\n",
       "      <td>21.333333</td>\n",
       "      <td>0.592593</td>\n",
       "      <td>0.120370</td>\n",
       "    </tr>\n",
       "    <tr>\n",
       "      <th>1</th>\n",
       "      <td>llava_1ep</td>\n",
       "      <td>21.000000</td>\n",
       "      <td>0.583333</td>\n",
       "      <td>0.111111</td>\n",
       "    </tr>\n",
       "    <tr>\n",
       "      <th>2</th>\n",
       "      <td>llava_5ep</td>\n",
       "      <td>21.400000</td>\n",
       "      <td>0.594444</td>\n",
       "      <td>0.122222</td>\n",
       "    </tr>\n",
       "    <tr>\n",
       "      <th>3</th>\n",
       "      <td>llava_7ep</td>\n",
       "      <td>21.400000</td>\n",
       "      <td>0.594444</td>\n",
       "      <td>0.122222</td>\n",
       "    </tr>\n",
       "    <tr>\n",
       "      <th>4</th>\n",
       "      <td>llava_HPC_base</td>\n",
       "      <td>19.800000</td>\n",
       "      <td>0.550000</td>\n",
       "      <td>0.077778</td>\n",
       "    </tr>\n",
       "    <tr>\n",
       "      <th>5</th>\n",
       "      <td>llava_local_base</td>\n",
       "      <td>17.000000</td>\n",
       "      <td>0.472222</td>\n",
       "      <td>0.000000</td>\n",
       "    </tr>\n",
       "  </tbody>\n",
       "</table>\n",
       "</div>"
      ],
      "text/plain": [
       "              model  num_correct   percent  improvement\n",
       "0        llava_10ep    21.333333  0.592593     0.120370\n",
       "1         llava_1ep    21.000000  0.583333     0.111111\n",
       "2         llava_5ep    21.400000  0.594444     0.122222\n",
       "3         llava_7ep    21.400000  0.594444     0.122222\n",
       "4    llava_HPC_base    19.800000  0.550000     0.077778\n",
       "5  llava_local_base    17.000000  0.472222     0.000000"
      ]
     },
     "execution_count": 269,
     "metadata": {},
     "output_type": "execute_result"
    }
   ],
   "source": [
    "model_performance"
   ]
  },
  {
   "cell_type": "code",
   "execution_count": 270,
   "metadata": {},
   "outputs": [
    {
     "data": {
      "text/plain": [
       "llava_local_base  1    17\n",
       "                  2    17\n",
       "                  3    17\n",
       "llava_HPC_base    1    20\n",
       "                  2    20\n",
       "                  3    20\n",
       "                  4    20\n",
       "                  5    19\n",
       "llava_1ep         1    22\n",
       "                  2    20\n",
       "                  3    21\n",
       "                  4    21\n",
       "                  5    21\n",
       "llava_5ep         1    20\n",
       "                  2    23\n",
       "                  3    21\n",
       "                  4    22\n",
       "                  5    21\n",
       "llava_7ep         1    22\n",
       "                  2    20\n",
       "                  3    22\n",
       "                  4    21\n",
       "                  5    22\n",
       "llava_10ep        1    22\n",
       "                  2    21\n",
       "                  3    21\n",
       "dtype: int64"
      ]
     },
     "execution_count": 270,
     "metadata": {},
     "output_type": "execute_result"
    }
   ],
   "source": [
    "num_correct.index = pd.MultiIndex.from_tuples([(i.split('-')[0], int(i.split('-')[1])) for i in num_correct.index])\n",
    "num_correct"
   ]
  },
  {
   "cell_type": "code",
   "execution_count": 271,
   "metadata": {},
   "outputs": [
    {
     "data": {
      "text/html": [
       "<div>\n",
       "<style scoped>\n",
       "    .dataframe tbody tr th:only-of-type {\n",
       "        vertical-align: middle;\n",
       "    }\n",
       "\n",
       "    .dataframe tbody tr th {\n",
       "        vertical-align: top;\n",
       "    }\n",
       "\n",
       "    .dataframe thead th {\n",
       "        text-align: right;\n",
       "    }\n",
       "</style>\n",
       "<table border=\"1\" class=\"dataframe\">\n",
       "  <thead>\n",
       "    <tr style=\"text-align: right;\">\n",
       "      <th></th>\n",
       "      <th>llava_10ep</th>\n",
       "      <th>llava_1ep</th>\n",
       "      <th>llava_5ep</th>\n",
       "      <th>llava_7ep</th>\n",
       "      <th>llava_HPC_base</th>\n",
       "      <th>llava_local_base</th>\n",
       "    </tr>\n",
       "  </thead>\n",
       "  <tbody>\n",
       "    <tr>\n",
       "      <th>1</th>\n",
       "      <td>22.0</td>\n",
       "      <td>22.0</td>\n",
       "      <td>20.0</td>\n",
       "      <td>22.0</td>\n",
       "      <td>20.0</td>\n",
       "      <td>17.0</td>\n",
       "    </tr>\n",
       "    <tr>\n",
       "      <th>2</th>\n",
       "      <td>21.0</td>\n",
       "      <td>20.0</td>\n",
       "      <td>23.0</td>\n",
       "      <td>20.0</td>\n",
       "      <td>20.0</td>\n",
       "      <td>17.0</td>\n",
       "    </tr>\n",
       "    <tr>\n",
       "      <th>3</th>\n",
       "      <td>21.0</td>\n",
       "      <td>21.0</td>\n",
       "      <td>21.0</td>\n",
       "      <td>22.0</td>\n",
       "      <td>20.0</td>\n",
       "      <td>17.0</td>\n",
       "    </tr>\n",
       "    <tr>\n",
       "      <th>4</th>\n",
       "      <td>NaN</td>\n",
       "      <td>21.0</td>\n",
       "      <td>22.0</td>\n",
       "      <td>21.0</td>\n",
       "      <td>20.0</td>\n",
       "      <td>NaN</td>\n",
       "    </tr>\n",
       "    <tr>\n",
       "      <th>5</th>\n",
       "      <td>NaN</td>\n",
       "      <td>21.0</td>\n",
       "      <td>21.0</td>\n",
       "      <td>22.0</td>\n",
       "      <td>19.0</td>\n",
       "      <td>NaN</td>\n",
       "    </tr>\n",
       "  </tbody>\n",
       "</table>\n",
       "</div>"
      ],
      "text/plain": [
       "   llava_10ep  llava_1ep  llava_5ep  llava_7ep  llava_HPC_base  \\\n",
       "1        22.0       22.0       20.0       22.0            20.0   \n",
       "2        21.0       20.0       23.0       20.0            20.0   \n",
       "3        21.0       21.0       21.0       22.0            20.0   \n",
       "4         NaN       21.0       22.0       21.0            20.0   \n",
       "5         NaN       21.0       21.0       22.0            19.0   \n",
       "\n",
       "   llava_local_base  \n",
       "1              17.0  \n",
       "2              17.0  \n",
       "3              17.0  \n",
       "4               NaN  \n",
       "5               NaN  "
      ]
     },
     "execution_count": 271,
     "metadata": {},
     "output_type": "execute_result"
    }
   ],
   "source": [
    "data = num_correct.unstack().transpose()\n",
    "data"
   ]
  },
  {
   "cell_type": "code",
   "execution_count": 272,
   "metadata": {},
   "outputs": [
    {
     "data": {
      "image/png": "[encoded data removed]",
      "text/plain": [
       "<Figure size 1000x600 with 1 Axes>"
      ]
     },
     "metadata": {},
     "output_type": "display_data"
    }
   ],
   "source": [
    "# Line colors\n",
    "line_colors = {\n",
    "    'llava_local_base': 'black',\n",
    "    'llava_HPC_base': '#7d54b2',\n",
    "    'llava_1ep': '#e87b9f',\n",
    "    'llava_5ep': '#edb732',\n",
    "    'llava_7ep': '#229487',\n",
    "    'llava_10ep': '#78cfe1'\n",
    "}\n",
    "# Plotting\n",
    "plt.figure(figsize=(10, 6))\n",
    "\n",
    "for model, color in line_colors.items():\n",
    "    plt.plot(data.index, data[model].sort_values(), label=model, marker='o', color=color)  # Using 'o' marker for observation points\n",
    "\n",
    "plt.title('Model Observations')\n",
    "plt.xlabel('Observation Number')\n",
    "plt.ylabel('Value')\n",
    "plt.legend(title='Model')\n",
    "plt.grid(True)\n",
    "plt.xticks(range(1, data.index.max() + 1))  # Ensure x-axis ticks cover all observation numbers\n",
    "plt.tight_layout()\n",
    "plt.show()"
   ]
  },
  {
   "cell_type": "code",
   "execution_count": null,
   "metadata": {},
   "outputs": [],
   "source": []
  }
 ],
 "metadata": {
  "kernelspec": {
   "display_name": "Python 3",
   "language": "python",
   "name": "python3"
  },
  "language_info": {
   "codemirror_mode": {
    "name": "ipython",
    "version": 3
   },
   "file_extension": ".py",
   "mimetype": "text/x-python",
   "name": "python",
   "nbconvert_exporter": "python",
   "pygments_lexer": "ipython3",
   "version": "3.11.7"
  }
 },
 "nbformat": 4,
 "nbformat_minor": 2
}
