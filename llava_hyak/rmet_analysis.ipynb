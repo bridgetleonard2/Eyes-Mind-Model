{
 "cells": [
  {
   "cell_type": "code",
   "execution_count": 2,
   "metadata": {},
   "outputs": [],
   "source": [
    "import pandas as pd\n",
    "import matplotlib.pyplot as plt"
   ]
  },
  {
   "cell_type": "markdown",
   "metadata": {},
   "source": [
    "## Fine-Tuning LLaVA on the RMET"
   ]
  },
  {
   "cell_type": "markdown",
   "metadata": {},
   "source": [
    "We are looking at our results of fine-tuning the LLaVA model on the RMET task. We are looking at 5 different versions of the models: the base model and 4 fine-tuned models with different levels of training. "
   ]
  },
  {
   "cell_type": "markdown",
   "metadata": {},
   "source": [
    "### 1 RMET data"
   ]
  },
  {
   "cell_type": "markdown",
   "metadata": {},
   "source": [
    "#### 1.1 Loading and checking the data"
   ]
  },
  {
   "cell_type": "code",
   "execution_count": 94,
   "metadata": {},
   "outputs": [],
   "source": [
    "base1 = pd.read_csv('rmet_results/rmet_base-1.txt')\n",
    "base2 = pd.read_csv('rmet_results/rmet_base-2.txt')\n",
    "base3 = pd.read_csv('rmet_results/rmet_base-3.txt')\n",
    "base4 = pd.read_csv('rmet_results/rmet_base-4.txt')\n",
    "base5 = pd.read_csv('rmet_results/rmet_base-5.txt')\n",
    "ep1_1 = pd.read_csv('rmet_results/rmet_1ep-1.txt')\n",
    "ep1_2 = pd.read_csv('rmet_results/rmet_1ep-2.txt')\n",
    "ep1_3 = pd.read_csv('rmet_results/rmet_1ep-3.txt')\n",
    "ep1_4 = pd.read_csv('rmet_results/rmet_1ep-4.txt')\n",
    "ep1_5 = pd.read_csv('rmet_results/rmet_1ep-5.txt')\n",
    "ep5_1 = pd.read_csv('rmet_results/rmet_5ep-1.txt')\n",
    "ep5_2 = pd.read_csv('rmet_results/rmet_5ep-2.txt')\n",
    "ep5_3 = pd.read_csv('rmet_results/rmet_5ep-3.txt')\n",
    "ep5_4 = pd.read_csv('rmet_results/rmet_5ep-4.txt')\n",
    "ep5_5 = pd.read_csv('rmet_results/rmet_5ep-5.txt')\n",
    "ep7_1 = pd.read_csv('rmet_results/rmet_7ep-1.txt')\n",
    "ep7_2 = pd.read_csv('rmet_results/rmet_7ep-2.txt')\n",
    "ep7_3 = pd.read_csv('rmet_results/rmet_7ep-3.txt')\n",
    "ep10_1 = pd.read_csv('rmet_results/rmet_10ep-1.txt')\n",
    "ep10_2 = pd.read_csv('rmet_results/rmet_10ep-2.txt')\n",
    "# ep10_3 = pd.read_csv('rmet_results/rmet_10ep-3.txt')"
   ]
  },
  {
   "cell_type": "code",
   "execution_count": 95,
   "metadata": {},
   "outputs": [],
   "source": [
    "rmet = pd.concat([base1, base2, base3, base4, base5, ep1_1, ep1_2, ep1_3, ep1_4, ep1_5, ep5_1, ep5_2, ep5_3, ep5_4, ep5_5, ep7_1, ep7_2, ep7_3, ep10_1, ep10_2], axis=1)"
   ]
  },
  {
   "cell_type": "markdown",
   "metadata": {},
   "source": [
    "### 2 Task performance\n"
   ]
  },
  {
   "cell_type": "markdown",
   "metadata": {},
   "source": [
    "#### 2.1 Load answers"
   ]
  },
  {
   "cell_type": "code",
   "execution_count": 96,
   "metadata": {},
   "outputs": [],
   "source": [
    "answers_file = 'rmet_materials/answers.txt'\n",
    "with open(answers_file, 'r') as file:\n",
    "    answers = [line.strip() for line in file.readlines()]"
   ]
  },
  {
   "cell_type": "code",
   "execution_count": 97,
   "metadata": {},
   "outputs": [
    {
     "data": {
      "text/plain": [
       "['playful',\n",
       " 'upset',\n",
       " 'desire',\n",
       " 'insisting',\n",
       " 'worried',\n",
       " 'fantasizing',\n",
       " 'uneasy',\n",
       " 'despondent',\n",
       " 'preoccupied',\n",
       " 'cautious']"
      ]
     },
     "execution_count": 97,
     "metadata": {},
     "output_type": "execute_result"
    }
   ],
   "source": [
    "answers[:10]"
   ]
  },
  {
   "cell_type": "markdown",
   "metadata": {},
   "source": [
    "#### 2.2 Check responses"
   ]
  },
  {
   "cell_type": "code",
   "execution_count": 98,
   "metadata": {},
   "outputs": [],
   "source": [
    "performance = rmet.copy()"
   ]
  },
  {
   "cell_type": "code",
   "execution_count": 99,
   "metadata": {},
   "outputs": [],
   "source": [
    "for model in performance.columns:\n",
    "    performance[model] = [1 if performance[model][i] == answers[i] else 0 for i in range(len(answers))]"
   ]
  },
  {
   "cell_type": "markdown",
   "metadata": {},
   "source": [
    "#### 2.3 Calculate number correct"
   ]
  },
  {
   "cell_type": "code",
   "execution_count": 100,
   "metadata": {},
   "outputs": [],
   "source": [
    "num_correct = performance.sum(axis=0)"
   ]
  },
  {
   "cell_type": "code",
   "execution_count": 101,
   "metadata": {},
   "outputs": [
    {
     "data": {
      "text/plain": [
       "llava_base-1    17\n",
       "llava_base-2    20\n",
       "llava_base-3    17\n",
       "llava_base-4    20\n",
       "llava_base-5    20\n",
       "llava_1ep-1     22\n",
       "llava_1ep-2     20\n",
       "llava_1ep-3     21\n",
       "llava_1ep-4     21\n",
       "llava_1ep-5     21\n",
       "llava_5ep-1     20\n",
       "llava_5ep-2     23\n",
       "llava_5ep-3     21\n",
       "llava_5ep-4     22\n",
       "llava_5ep-5     21\n",
       "llava_7ep-1     22\n",
       "llava_7ep-2     19\n",
       "llava_7ep-3     22\n",
       "llava_10ep-1    22\n",
       "llava_10ep-2    21\n",
       "dtype: int64"
      ]
     },
     "execution_count": 101,
     "metadata": {},
     "output_type": "execute_result"
    }
   ],
   "source": [
    "num_correct"
   ]
  },
  {
   "cell_type": "markdown",
   "metadata": {},
   "source": [
    "#### 2.4 Calculate Performance Increase (from base model)"
   ]
  },
  {
   "cell_type": "code",
   "execution_count": 102,
   "metadata": {},
   "outputs": [],
   "source": [
    "increase_performance = pd.DataFrame(num_correct)\n",
    "increase_performance.columns = ['num_correct']"
   ]
  },
  {
   "cell_type": "code",
   "execution_count": 103,
   "metadata": {},
   "outputs": [],
   "source": [
    "# Merge model types\n",
    "increase_performance['model'] = [idx.split('-')[0] for idx in increase_performance.index]"
   ]
  },
  {
   "cell_type": "code",
   "execution_count": 104,
   "metadata": {},
   "outputs": [],
   "source": [
    "model_performance = increase_performance.groupby('model')['num_correct'].mean()"
   ]
  },
  {
   "cell_type": "code",
   "execution_count": 105,
   "metadata": {},
   "outputs": [],
   "source": [
    "model_performance = model_performance.reset_index()\n",
    "model_performance.columns = ['model', 'num_correct']"
   ]
  },
  {
   "cell_type": "code",
   "execution_count": 106,
   "metadata": {},
   "outputs": [
    {
     "data": {
      "text/html": [
       "<div>\n",
       "<style scoped>\n",
       "    .dataframe tbody tr th:only-of-type {\n",
       "        vertical-align: middle;\n",
       "    }\n",
       "\n",
       "    .dataframe tbody tr th {\n",
       "        vertical-align: top;\n",
       "    }\n",
       "\n",
       "    .dataframe thead th {\n",
       "        text-align: right;\n",
       "    }\n",
       "</style>\n",
       "<table border=\"1\" class=\"dataframe\">\n",
       "  <thead>\n",
       "    <tr style=\"text-align: right;\">\n",
       "      <th></th>\n",
       "      <th>model</th>\n",
       "      <th>num_correct</th>\n",
       "    </tr>\n",
       "  </thead>\n",
       "  <tbody>\n",
       "    <tr>\n",
       "      <th>0</th>\n",
       "      <td>llava_10ep</td>\n",
       "      <td>21.5</td>\n",
       "    </tr>\n",
       "    <tr>\n",
       "      <th>1</th>\n",
       "      <td>llava_1ep</td>\n",
       "      <td>21.0</td>\n",
       "    </tr>\n",
       "    <tr>\n",
       "      <th>2</th>\n",
       "      <td>llava_5ep</td>\n",
       "      <td>21.4</td>\n",
       "    </tr>\n",
       "    <tr>\n",
       "      <th>3</th>\n",
       "      <td>llava_7ep</td>\n",
       "      <td>21.0</td>\n",
       "    </tr>\n",
       "    <tr>\n",
       "      <th>4</th>\n",
       "      <td>llava_base</td>\n",
       "      <td>18.8</td>\n",
       "    </tr>\n",
       "  </tbody>\n",
       "</table>\n",
       "</div>"
      ],
      "text/plain": [
       "        model  num_correct\n",
       "0  llava_10ep         21.5\n",
       "1   llava_1ep         21.0\n",
       "2   llava_5ep         21.4\n",
       "3   llava_7ep         21.0\n",
       "4  llava_base         18.8"
      ]
     },
     "execution_count": 106,
     "metadata": {},
     "output_type": "execute_result"
    }
   ],
   "source": [
    "model_performance"
   ]
  },
  {
   "cell_type": "code",
   "execution_count": 92,
   "metadata": {},
   "outputs": [],
   "source": [
    "model_performance['percent'] = model_performance['num_correct'].apply(lambda x: x / 36)\n",
    "model_performance['improvement'] = model_performance['percent'].apply(lambda x: x - model_performance.iloc[4, 2])"
   ]
  },
  {
   "cell_type": "code",
   "execution_count": 93,
   "metadata": {},
   "outputs": [
    {
     "data": {
      "text/html": [
       "<div>\n",
       "<style scoped>\n",
       "    .dataframe tbody tr th:only-of-type {\n",
       "        vertical-align: middle;\n",
       "    }\n",
       "\n",
       "    .dataframe tbody tr th {\n",
       "        vertical-align: top;\n",
       "    }\n",
       "\n",
       "    .dataframe thead th {\n",
       "        text-align: right;\n",
       "    }\n",
       "</style>\n",
       "<table border=\"1\" class=\"dataframe\">\n",
       "  <thead>\n",
       "    <tr style=\"text-align: right;\">\n",
       "      <th></th>\n",
       "      <th>model</th>\n",
       "      <th>num_correct</th>\n",
       "      <th>percent</th>\n",
       "      <th>improvement</th>\n",
       "    </tr>\n",
       "  </thead>\n",
       "  <tbody>\n",
       "    <tr>\n",
       "      <th>0</th>\n",
       "      <td>llava_10ep</td>\n",
       "      <td>21.500000</td>\n",
       "      <td>0.597222</td>\n",
       "      <td>0.075000</td>\n",
       "    </tr>\n",
       "    <tr>\n",
       "      <th>1</th>\n",
       "      <td>llava_1ep</td>\n",
       "      <td>21.000000</td>\n",
       "      <td>0.583333</td>\n",
       "      <td>0.061111</td>\n",
       "    </tr>\n",
       "    <tr>\n",
       "      <th>2</th>\n",
       "      <td>llava_5ep</td>\n",
       "      <td>21.400000</td>\n",
       "      <td>0.594444</td>\n",
       "      <td>0.072222</td>\n",
       "    </tr>\n",
       "    <tr>\n",
       "      <th>3</th>\n",
       "      <td>llava_7ep</td>\n",
       "      <td>21.666667</td>\n",
       "      <td>0.601852</td>\n",
       "      <td>0.079630</td>\n",
       "    </tr>\n",
       "    <tr>\n",
       "      <th>4</th>\n",
       "      <td>llava_base</td>\n",
       "      <td>18.800000</td>\n",
       "      <td>0.522222</td>\n",
       "      <td>0.000000</td>\n",
       "    </tr>\n",
       "  </tbody>\n",
       "</table>\n",
       "</div>"
      ],
      "text/plain": [
       "        model  num_correct   percent  improvement\n",
       "0  llava_10ep    21.500000  0.597222     0.075000\n",
       "1   llava_1ep    21.000000  0.583333     0.061111\n",
       "2   llava_5ep    21.400000  0.594444     0.072222\n",
       "3   llava_7ep    21.666667  0.601852     0.079630\n",
       "4  llava_base    18.800000  0.522222     0.000000"
      ]
     },
     "execution_count": 93,
     "metadata": {},
     "output_type": "execute_result"
    }
   ],
   "source": [
    "model_performance"
   ]
  },
  {
   "cell_type": "code",
   "execution_count": null,
   "metadata": {},
   "outputs": [],
   "source": []
  },
  {
   "cell_type": "code",
   "execution_count": null,
   "metadata": {},
   "outputs": [],
   "source": []
  }
 ],
 "metadata": {
  "kernelspec": {
   "display_name": "Python 3",
   "language": "python",
   "name": "python3"
  },
  "language_info": {
   "codemirror_mode": {
    "name": "ipython",
    "version": 3
   },
   "file_extension": ".py",
   "mimetype": "text/x-python",
   "name": "python",
   "nbconvert_exporter": "python",
   "pygments_lexer": "ipython3",
   "version": "3.11.7"
  }
 },
 "nbformat": 4,
 "nbformat_minor": 2
}
