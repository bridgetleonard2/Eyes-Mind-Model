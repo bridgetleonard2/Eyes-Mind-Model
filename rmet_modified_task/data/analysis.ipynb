{
 "cells": [
  {
   "cell_type": "code",
   "execution_count": 21,
   "metadata": {},
   "outputs": [],
   "source": [
    "import pandas as pd\n",
    "import os\n",
    "import matplotlib.pyplot as plt"
   ]
  },
  {
   "cell_type": "markdown",
   "metadata": {},
   "source": [
    "## Modified RMET"
   ]
  },
  {
   "cell_type": "code",
   "execution_count": 59,
   "metadata": {},
   "outputs": [],
   "source": [
    "modified_rmet = pd.DataFrame()"
   ]
  },
  {
   "cell_type": "code",
   "execution_count": 60,
   "metadata": {},
   "outputs": [],
   "source": [
    "files = os.listdir()\n",
    "text_files = [file for file in files if file.endswith('.txt')]"
   ]
  },
  {
   "cell_type": "code",
   "execution_count": 69,
   "metadata": {},
   "outputs": [],
   "source": [
    "for file in text_files:\n",
    "    with open(file, 'r') as f:\n",
    "        responses = [line.strip().split(': ')[1] for line in f.readlines()]\n",
    "        modified_rmet[file.split('.')[0]] = responses"
   ]
  },
  {
   "cell_type": "code",
   "execution_count": 100,
   "metadata": {},
   "outputs": [
    {
     "data": {
      "text/plain": [
       "20"
      ]
     },
     "execution_count": 100,
     "metadata": {},
     "output_type": "execute_result"
    }
   ],
   "source": [
    "len(text_files)"
   ]
  },
  {
   "cell_type": "code",
   "execution_count": 70,
   "metadata": {},
   "outputs": [
    {
     "data": {
      "text/html": [
       "<div>\n",
       "<style scoped>\n",
       "    .dataframe tbody tr th:only-of-type {\n",
       "        vertical-align: middle;\n",
       "    }\n",
       "\n",
       "    .dataframe tbody tr th {\n",
       "        vertical-align: top;\n",
       "    }\n",
       "\n",
       "    .dataframe thead th {\n",
       "        text-align: right;\n",
       "    }\n",
       "</style>\n",
       "<table border=\"1\" class=\"dataframe\">\n",
       "  <thead>\n",
       "    <tr style=\"text-align: right;\">\n",
       "      <th></th>\n",
       "      <th>B455</th>\n",
       "      <th>B457</th>\n",
       "      <th>B458</th>\n",
       "      <th>B459</th>\n",
       "      <th>B460</th>\n",
       "      <th>B462</th>\n",
       "      <th>B464</th>\n",
       "      <th>B465</th>\n",
       "      <th>B468</th>\n",
       "      <th>B469</th>\n",
       "      <th>B470</th>\n",
       "      <th>B472</th>\n",
       "      <th>B474</th>\n",
       "      <th>B477</th>\n",
       "      <th>B478</th>\n",
       "      <th>B480</th>\n",
       "      <th>B484</th>\n",
       "      <th>b489</th>\n",
       "      <th>B493</th>\n",
       "      <th>BL_test</th>\n",
       "    </tr>\n",
       "  </thead>\n",
       "  <tbody>\n",
       "    <tr>\n",
       "      <th>0</th>\n",
       "      <td>no response</td>\n",
       "      <td>bored</td>\n",
       "      <td>comforting</td>\n",
       "      <td>playful</td>\n",
       "      <td>no response</td>\n",
       "      <td>playful</td>\n",
       "      <td>comforting</td>\n",
       "      <td>no response</td>\n",
       "      <td>playful</td>\n",
       "      <td>no response</td>\n",
       "      <td>playful</td>\n",
       "      <td>no response</td>\n",
       "      <td>playful</td>\n",
       "      <td>playful</td>\n",
       "      <td>no response</td>\n",
       "      <td>playful</td>\n",
       "      <td>comforting</td>\n",
       "      <td>irritated</td>\n",
       "      <td>comforting</td>\n",
       "      <td>playful</td>\n",
       "    </tr>\n",
       "    <tr>\n",
       "      <th>1</th>\n",
       "      <td>upset</td>\n",
       "      <td>upset</td>\n",
       "      <td>upset</td>\n",
       "      <td>annoyed</td>\n",
       "      <td>terrified</td>\n",
       "      <td>upset</td>\n",
       "      <td>upset</td>\n",
       "      <td>terrified</td>\n",
       "      <td>upset</td>\n",
       "      <td>upset</td>\n",
       "      <td>terrified</td>\n",
       "      <td>upset</td>\n",
       "      <td>upset</td>\n",
       "      <td>upset</td>\n",
       "      <td>upset</td>\n",
       "      <td>no response</td>\n",
       "      <td>no response</td>\n",
       "      <td>upset</td>\n",
       "      <td>no response</td>\n",
       "      <td>terrified</td>\n",
       "    </tr>\n",
       "    <tr>\n",
       "      <th>2</th>\n",
       "      <td>desire</td>\n",
       "      <td>desire</td>\n",
       "      <td>desire</td>\n",
       "      <td>no response</td>\n",
       "      <td>desire</td>\n",
       "      <td>desire</td>\n",
       "      <td>desire</td>\n",
       "      <td>desire</td>\n",
       "      <td>no response</td>\n",
       "      <td>desire</td>\n",
       "      <td>desire</td>\n",
       "      <td>no response</td>\n",
       "      <td>desire</td>\n",
       "      <td>no response</td>\n",
       "      <td>joking</td>\n",
       "      <td>desire</td>\n",
       "      <td>flustered</td>\n",
       "      <td>desire</td>\n",
       "      <td>flustered</td>\n",
       "      <td>joking</td>\n",
       "    </tr>\n",
       "    <tr>\n",
       "      <th>3</th>\n",
       "      <td>no response</td>\n",
       "      <td>no response</td>\n",
       "      <td>insisting</td>\n",
       "      <td>amused</td>\n",
       "      <td>insisting</td>\n",
       "      <td>insisting</td>\n",
       "      <td>amused</td>\n",
       "      <td>no response</td>\n",
       "      <td>amused</td>\n",
       "      <td>no response</td>\n",
       "      <td>amused</td>\n",
       "      <td>insisting</td>\n",
       "      <td>insisting</td>\n",
       "      <td>joking</td>\n",
       "      <td>amused</td>\n",
       "      <td>insisting</td>\n",
       "      <td>insisting</td>\n",
       "      <td>insisting</td>\n",
       "      <td>insisting</td>\n",
       "      <td>joking</td>\n",
       "    </tr>\n",
       "    <tr>\n",
       "      <th>4</th>\n",
       "      <td>worried</td>\n",
       "      <td>irritated</td>\n",
       "      <td>worried</td>\n",
       "      <td>sarcastic</td>\n",
       "      <td>no response</td>\n",
       "      <td>sarcastic</td>\n",
       "      <td>worried</td>\n",
       "      <td>worried</td>\n",
       "      <td>worried</td>\n",
       "      <td>irritated</td>\n",
       "      <td>worried</td>\n",
       "      <td>no response</td>\n",
       "      <td>worried</td>\n",
       "      <td>worried</td>\n",
       "      <td>worried</td>\n",
       "      <td>worried</td>\n",
       "      <td>worried</td>\n",
       "      <td>worried</td>\n",
       "      <td>no response</td>\n",
       "      <td>irritated</td>\n",
       "    </tr>\n",
       "  </tbody>\n",
       "</table>\n",
       "</div>"
      ],
      "text/plain": [
       "          B455         B457        B458         B459         B460       B462  \\\n",
       "0  no response        bored  comforting      playful  no response    playful   \n",
       "1        upset        upset       upset      annoyed    terrified      upset   \n",
       "2       desire       desire      desire  no response       desire     desire   \n",
       "3  no response  no response   insisting       amused    insisting  insisting   \n",
       "4      worried    irritated     worried    sarcastic  no response  sarcastic   \n",
       "\n",
       "         B464         B465         B468         B469       B470         B472  \\\n",
       "0  comforting  no response      playful  no response    playful  no response   \n",
       "1       upset    terrified        upset        upset  terrified        upset   \n",
       "2      desire       desire  no response       desire     desire  no response   \n",
       "3      amused  no response       amused  no response     amused    insisting   \n",
       "4     worried      worried      worried    irritated    worried  no response   \n",
       "\n",
       "        B474         B477         B478         B480         B484       b489  \\\n",
       "0    playful      playful  no response      playful   comforting  irritated   \n",
       "1      upset        upset        upset  no response  no response      upset   \n",
       "2     desire  no response       joking       desire    flustered     desire   \n",
       "3  insisting       joking       amused    insisting    insisting  insisting   \n",
       "4    worried      worried      worried      worried      worried    worried   \n",
       "\n",
       "          B493    BL_test  \n",
       "0   comforting    playful  \n",
       "1  no response  terrified  \n",
       "2    flustered     joking  \n",
       "3    insisting     joking  \n",
       "4  no response  irritated  "
      ]
     },
     "execution_count": 70,
     "metadata": {},
     "output_type": "execute_result"
    }
   ],
   "source": [
    "modified_rmet.head()"
   ]
  },
  {
   "cell_type": "code",
   "execution_count": 71,
   "metadata": {},
   "outputs": [],
   "source": [
    "answer_file = '../../task_materials/answers.txt'\n",
    "with open(answer_file, 'r') as f:\n",
    "    answers = [line.strip().split(', ')[1] for line in f.readlines()]"
   ]
  },
  {
   "cell_type": "code",
   "execution_count": 72,
   "metadata": {},
   "outputs": [],
   "source": [
    "modified_correct = modified_rmet.copy()\n",
    "for ppt in modified_correct.columns:\n",
    "    modified_correct[ppt] = [1 if modified_correct[ppt][i] == answers[i] else 0 for i in range(len(answers))]"
   ]
  },
  {
   "cell_type": "code",
   "execution_count": 73,
   "metadata": {},
   "outputs": [
    {
     "data": {
      "text/html": [
       "<div>\n",
       "<style scoped>\n",
       "    .dataframe tbody tr th:only-of-type {\n",
       "        vertical-align: middle;\n",
       "    }\n",
       "\n",
       "    .dataframe tbody tr th {\n",
       "        vertical-align: top;\n",
       "    }\n",
       "\n",
       "    .dataframe thead th {\n",
       "        text-align: right;\n",
       "    }\n",
       "</style>\n",
       "<table border=\"1\" class=\"dataframe\">\n",
       "  <thead>\n",
       "    <tr style=\"text-align: right;\">\n",
       "      <th></th>\n",
       "      <th>B455</th>\n",
       "      <th>B457</th>\n",
       "      <th>B458</th>\n",
       "      <th>B459</th>\n",
       "      <th>B460</th>\n",
       "      <th>B462</th>\n",
       "      <th>B464</th>\n",
       "      <th>B465</th>\n",
       "      <th>B468</th>\n",
       "      <th>B469</th>\n",
       "      <th>B470</th>\n",
       "      <th>B472</th>\n",
       "      <th>B474</th>\n",
       "      <th>B477</th>\n",
       "      <th>B478</th>\n",
       "      <th>B480</th>\n",
       "      <th>B484</th>\n",
       "      <th>b489</th>\n",
       "      <th>B493</th>\n",
       "      <th>BL_test</th>\n",
       "    </tr>\n",
       "  </thead>\n",
       "  <tbody>\n",
       "    <tr>\n",
       "      <th>0</th>\n",
       "      <td>0</td>\n",
       "      <td>0</td>\n",
       "      <td>0</td>\n",
       "      <td>1</td>\n",
       "      <td>0</td>\n",
       "      <td>1</td>\n",
       "      <td>0</td>\n",
       "      <td>0</td>\n",
       "      <td>1</td>\n",
       "      <td>0</td>\n",
       "      <td>1</td>\n",
       "      <td>0</td>\n",
       "      <td>1</td>\n",
       "      <td>1</td>\n",
       "      <td>0</td>\n",
       "      <td>1</td>\n",
       "      <td>0</td>\n",
       "      <td>0</td>\n",
       "      <td>0</td>\n",
       "      <td>1</td>\n",
       "    </tr>\n",
       "    <tr>\n",
       "      <th>1</th>\n",
       "      <td>1</td>\n",
       "      <td>1</td>\n",
       "      <td>1</td>\n",
       "      <td>0</td>\n",
       "      <td>0</td>\n",
       "      <td>1</td>\n",
       "      <td>1</td>\n",
       "      <td>0</td>\n",
       "      <td>1</td>\n",
       "      <td>1</td>\n",
       "      <td>0</td>\n",
       "      <td>1</td>\n",
       "      <td>1</td>\n",
       "      <td>1</td>\n",
       "      <td>1</td>\n",
       "      <td>0</td>\n",
       "      <td>0</td>\n",
       "      <td>1</td>\n",
       "      <td>0</td>\n",
       "      <td>0</td>\n",
       "    </tr>\n",
       "    <tr>\n",
       "      <th>2</th>\n",
       "      <td>1</td>\n",
       "      <td>1</td>\n",
       "      <td>1</td>\n",
       "      <td>0</td>\n",
       "      <td>1</td>\n",
       "      <td>1</td>\n",
       "      <td>1</td>\n",
       "      <td>1</td>\n",
       "      <td>0</td>\n",
       "      <td>1</td>\n",
       "      <td>1</td>\n",
       "      <td>0</td>\n",
       "      <td>1</td>\n",
       "      <td>0</td>\n",
       "      <td>0</td>\n",
       "      <td>1</td>\n",
       "      <td>0</td>\n",
       "      <td>1</td>\n",
       "      <td>0</td>\n",
       "      <td>0</td>\n",
       "    </tr>\n",
       "    <tr>\n",
       "      <th>3</th>\n",
       "      <td>0</td>\n",
       "      <td>0</td>\n",
       "      <td>1</td>\n",
       "      <td>0</td>\n",
       "      <td>1</td>\n",
       "      <td>1</td>\n",
       "      <td>0</td>\n",
       "      <td>0</td>\n",
       "      <td>0</td>\n",
       "      <td>0</td>\n",
       "      <td>0</td>\n",
       "      <td>1</td>\n",
       "      <td>1</td>\n",
       "      <td>0</td>\n",
       "      <td>0</td>\n",
       "      <td>1</td>\n",
       "      <td>1</td>\n",
       "      <td>1</td>\n",
       "      <td>1</td>\n",
       "      <td>0</td>\n",
       "    </tr>\n",
       "    <tr>\n",
       "      <th>4</th>\n",
       "      <td>1</td>\n",
       "      <td>0</td>\n",
       "      <td>1</td>\n",
       "      <td>0</td>\n",
       "      <td>0</td>\n",
       "      <td>0</td>\n",
       "      <td>1</td>\n",
       "      <td>1</td>\n",
       "      <td>1</td>\n",
       "      <td>0</td>\n",
       "      <td>1</td>\n",
       "      <td>0</td>\n",
       "      <td>1</td>\n",
       "      <td>1</td>\n",
       "      <td>1</td>\n",
       "      <td>1</td>\n",
       "      <td>1</td>\n",
       "      <td>1</td>\n",
       "      <td>0</td>\n",
       "      <td>0</td>\n",
       "    </tr>\n",
       "  </tbody>\n",
       "</table>\n",
       "</div>"
      ],
      "text/plain": [
       "   B455  B457  B458  B459  B460  B462  B464  B465  B468  B469  B470  B472  \\\n",
       "0     0     0     0     1     0     1     0     0     1     0     1     0   \n",
       "1     1     1     1     0     0     1     1     0     1     1     0     1   \n",
       "2     1     1     1     0     1     1     1     1     0     1     1     0   \n",
       "3     0     0     1     0     1     1     0     0     0     0     0     1   \n",
       "4     1     0     1     0     0     0     1     1     1     0     1     0   \n",
       "\n",
       "   B474  B477  B478  B480  B484  b489  B493  BL_test  \n",
       "0     1     1     0     1     0     0     0        1  \n",
       "1     1     1     1     0     0     1     0        0  \n",
       "2     1     0     0     1     0     1     0        0  \n",
       "3     1     0     0     1     1     1     1        0  \n",
       "4     1     1     1     1     1     1     0        0  "
      ]
     },
     "execution_count": 73,
     "metadata": {},
     "output_type": "execute_result"
    }
   ],
   "source": [
    "modified_correct.head()"
   ]
  },
  {
   "cell_type": "code",
   "execution_count": 74,
   "metadata": {},
   "outputs": [],
   "source": [
    "num_correct = modified_correct.sum(axis=0)"
   ]
  },
  {
   "cell_type": "code",
   "execution_count": 75,
   "metadata": {},
   "outputs": [
    {
     "data": {
      "text/plain": [
       "15.7"
      ]
     },
     "execution_count": 75,
     "metadata": {},
     "output_type": "execute_result"
    }
   ],
   "source": [
    "num_correct.mean()"
   ]
  },
  {
   "cell_type": "code",
   "execution_count": 76,
   "metadata": {},
   "outputs": [
    {
     "data": {
      "text/plain": [
       "6.65"
      ]
     },
     "execution_count": 76,
     "metadata": {},
     "output_type": "execute_result"
    }
   ],
   "source": [
    "reg_correct = modified_correct[:12].sum(axis=0)\n",
    "reg_correct.mean()"
   ]
  },
  {
   "cell_type": "code",
   "execution_count": 77,
   "metadata": {},
   "outputs": [
    {
     "data": {
      "text/plain": [
       "3.7"
      ]
     },
     "execution_count": 77,
     "metadata": {},
     "output_type": "execute_result"
    }
   ],
   "source": [
    "upsideDown_correct = modified_correct[12:24].sum(axis=0)\n",
    "upsideDown_correct.mean()"
   ]
  },
  {
   "cell_type": "code",
   "execution_count": 78,
   "metadata": {},
   "outputs": [
    {
     "data": {
      "text/plain": [
       "5.35"
      ]
     },
     "execution_count": 78,
     "metadata": {},
     "output_type": "execute_result"
    }
   ],
   "source": [
    "scrambled_correct = modified_correct[24:36].sum(axis=0)\n",
    "scrambled_correct.mean()"
   ]
  },
  {
   "cell_type": "code",
   "execution_count": 79,
   "metadata": {},
   "outputs": [
    {
     "data": {
      "text/html": [
       "<div>\n",
       "<style scoped>\n",
       "    .dataframe tbody tr th:only-of-type {\n",
       "        vertical-align: middle;\n",
       "    }\n",
       "\n",
       "    .dataframe tbody tr th {\n",
       "        vertical-align: top;\n",
       "    }\n",
       "\n",
       "    .dataframe thead th {\n",
       "        text-align: right;\n",
       "    }\n",
       "</style>\n",
       "<table border=\"1\" class=\"dataframe\">\n",
       "  <thead>\n",
       "    <tr style=\"text-align: right;\">\n",
       "      <th></th>\n",
       "      <th>B455</th>\n",
       "      <th>B457</th>\n",
       "      <th>B458</th>\n",
       "      <th>B459</th>\n",
       "      <th>B460</th>\n",
       "      <th>B462</th>\n",
       "      <th>B464</th>\n",
       "      <th>B465</th>\n",
       "      <th>B468</th>\n",
       "      <th>B469</th>\n",
       "      <th>B470</th>\n",
       "      <th>B472</th>\n",
       "      <th>B474</th>\n",
       "      <th>B477</th>\n",
       "      <th>B478</th>\n",
       "      <th>B480</th>\n",
       "      <th>B484</th>\n",
       "      <th>b489</th>\n",
       "      <th>B493</th>\n",
       "      <th>BL_test</th>\n",
       "    </tr>\n",
       "  </thead>\n",
       "  <tbody>\n",
       "    <tr>\n",
       "      <th>regular</th>\n",
       "      <td>7</td>\n",
       "      <td>9</td>\n",
       "      <td>9</td>\n",
       "      <td>6</td>\n",
       "      <td>5</td>\n",
       "      <td>9</td>\n",
       "      <td>9</td>\n",
       "      <td>6</td>\n",
       "      <td>6</td>\n",
       "      <td>5</td>\n",
       "      <td>7</td>\n",
       "      <td>5</td>\n",
       "      <td>9</td>\n",
       "      <td>7</td>\n",
       "      <td>4</td>\n",
       "      <td>7</td>\n",
       "      <td>5</td>\n",
       "      <td>8</td>\n",
       "      <td>3</td>\n",
       "      <td>7</td>\n",
       "    </tr>\n",
       "    <tr>\n",
       "      <th>upsideDown</th>\n",
       "      <td>3</td>\n",
       "      <td>5</td>\n",
       "      <td>8</td>\n",
       "      <td>2</td>\n",
       "      <td>4</td>\n",
       "      <td>7</td>\n",
       "      <td>1</td>\n",
       "      <td>1</td>\n",
       "      <td>5</td>\n",
       "      <td>4</td>\n",
       "      <td>3</td>\n",
       "      <td>2</td>\n",
       "      <td>3</td>\n",
       "      <td>2</td>\n",
       "      <td>1</td>\n",
       "      <td>5</td>\n",
       "      <td>1</td>\n",
       "      <td>5</td>\n",
       "      <td>4</td>\n",
       "      <td>8</td>\n",
       "    </tr>\n",
       "    <tr>\n",
       "      <th>scrambled</th>\n",
       "      <td>6</td>\n",
       "      <td>9</td>\n",
       "      <td>6</td>\n",
       "      <td>4</td>\n",
       "      <td>8</td>\n",
       "      <td>7</td>\n",
       "      <td>2</td>\n",
       "      <td>5</td>\n",
       "      <td>4</td>\n",
       "      <td>4</td>\n",
       "      <td>7</td>\n",
       "      <td>6</td>\n",
       "      <td>5</td>\n",
       "      <td>5</td>\n",
       "      <td>2</td>\n",
       "      <td>3</td>\n",
       "      <td>5</td>\n",
       "      <td>6</td>\n",
       "      <td>2</td>\n",
       "      <td>11</td>\n",
       "    </tr>\n",
       "  </tbody>\n",
       "</table>\n",
       "</div>"
      ],
      "text/plain": [
       "            B455  B457  B458  B459  B460  B462  B464  B465  B468  B469  B470  \\\n",
       "regular        7     9     9     6     5     9     9     6     6     5     7   \n",
       "upsideDown     3     5     8     2     4     7     1     1     5     4     3   \n",
       "scrambled      6     9     6     4     8     7     2     5     4     4     7   \n",
       "\n",
       "            B472  B474  B477  B478  B480  B484  b489  B493  BL_test  \n",
       "regular        5     9     7     4     7     5     8     3        7  \n",
       "upsideDown     2     3     2     1     5     1     5     4        8  \n",
       "scrambled      6     5     5     2     3     5     6     2       11  "
      ]
     },
     "execution_count": 79,
     "metadata": {},
     "output_type": "execute_result"
    }
   ],
   "source": [
    "full_data = pd.concat((reg_correct, upsideDown_correct, scrambled_correct), axis=1)\n",
    "full_data.columns = [\"regular\", \"upsideDown\", \"scrambled\"]\n",
    "full_data = full_data.T\n",
    "full_data"
   ]
  },
  {
   "cell_type": "code",
   "execution_count": 81,
   "metadata": {},
   "outputs": [],
   "source": [
    "average_full_data = full_data.mean(axis=1)"
   ]
  },
  {
   "cell_type": "code",
   "execution_count": 82,
   "metadata": {},
   "outputs": [
    {
     "data": {
      "text/plain": [
       "<BarContainer object of 3 artists>"
      ]
     },
     "execution_count": 82,
     "metadata": {},
     "output_type": "execute_result"
    },
    {
     "data": {
      "image/png": "[encoded data removed]",
      "text/plain": [
       "<Figure size 1200x800 with 1 Axes>"
      ]
     },
     "metadata": {},
     "output_type": "display_data"
    }
   ],
   "source": [
    "plt.figure(figsize=(12,8))\n",
    "\n",
    "# Plot average_full_data as a bar chart with standard deviation error bars\n",
    "plt.bar(average_full_data.index, average_full_data, yerr=full_data.std(axis=1))"
   ]
  },
  {
   "cell_type": "markdown",
   "metadata": {},
   "source": [
    "## Old RMET Vs new images"
   ]
  },
  {
   "cell_type": "code",
   "execution_count": 87,
   "metadata": {},
   "outputs": [],
   "source": [
    "original_rmet = pd.DataFrame()\n",
    "original_files = os.listdir('original')\n",
    "original_text_files = [file for file in original_files if file.endswith('.txt')]"
   ]
  },
  {
   "cell_type": "code",
   "execution_count": 90,
   "metadata": {},
   "outputs": [],
   "source": [
    "for file in original_text_files:\n",
    "    with open(f\"original/{file}\", 'r') as f:\n",
    "        responses = [line.strip().split(': ')[1] for line in f.readlines()]\n",
    "        original_rmet[file.split('.')[0]] = responses"
   ]
  },
  {
   "cell_type": "code",
   "execution_count": 92,
   "metadata": {},
   "outputs": [],
   "source": [
    "original_correct = original_rmet.copy()\n",
    "for ppt in original_correct.columns:\n",
    "    original_correct[ppt] = [1 if original_correct[ppt][i] == answers[i] else 0 for i in range(len(answers))]"
   ]
  },
  {
   "cell_type": "code",
   "execution_count": 93,
   "metadata": {},
   "outputs": [
    {
     "data": {
      "text/html": [
       "<div>\n",
       "<style scoped>\n",
       "    .dataframe tbody tr th:only-of-type {\n",
       "        vertical-align: middle;\n",
       "    }\n",
       "\n",
       "    .dataframe tbody tr th {\n",
       "        vertical-align: top;\n",
       "    }\n",
       "\n",
       "    .dataframe thead th {\n",
       "        text-align: right;\n",
       "    }\n",
       "</style>\n",
       "<table border=\"1\" class=\"dataframe\">\n",
       "  <thead>\n",
       "    <tr style=\"text-align: right;\">\n",
       "      <th></th>\n",
       "      <th>B494-original</th>\n",
       "      <th>B503-original</th>\n",
       "      <th>B505-original</th>\n",
       "    </tr>\n",
       "  </thead>\n",
       "  <tbody>\n",
       "    <tr>\n",
       "      <th>0</th>\n",
       "      <td>0</td>\n",
       "      <td>1</td>\n",
       "      <td>0</td>\n",
       "    </tr>\n",
       "    <tr>\n",
       "      <th>1</th>\n",
       "      <td>1</td>\n",
       "      <td>0</td>\n",
       "      <td>0</td>\n",
       "    </tr>\n",
       "    <tr>\n",
       "      <th>2</th>\n",
       "      <td>0</td>\n",
       "      <td>1</td>\n",
       "      <td>0</td>\n",
       "    </tr>\n",
       "    <tr>\n",
       "      <th>3</th>\n",
       "      <td>1</td>\n",
       "      <td>1</td>\n",
       "      <td>0</td>\n",
       "    </tr>\n",
       "    <tr>\n",
       "      <th>4</th>\n",
       "      <td>0</td>\n",
       "      <td>1</td>\n",
       "      <td>1</td>\n",
       "    </tr>\n",
       "  </tbody>\n",
       "</table>\n",
       "</div>"
      ],
      "text/plain": [
       "   B494-original  B503-original  B505-original\n",
       "0              0              1              0\n",
       "1              1              0              0\n",
       "2              0              1              0\n",
       "3              1              1              0\n",
       "4              0              1              1"
      ]
     },
     "execution_count": 93,
     "metadata": {},
     "output_type": "execute_result"
    }
   ],
   "source": [
    "original_correct.head()"
   ]
  },
  {
   "cell_type": "code",
   "execution_count": 94,
   "metadata": {},
   "outputs": [
    {
     "data": {
      "text/plain": [
       "27.0"
      ]
     },
     "execution_count": 94,
     "metadata": {},
     "output_type": "execute_result"
    }
   ],
   "source": [
    "original_correct.sum().mean()"
   ]
  },
  {
   "cell_type": "code",
   "execution_count": 95,
   "metadata": {},
   "outputs": [],
   "source": [
    "new_rmet = pd.DataFrame()\n",
    "new_files = os.listdir('newimages')\n",
    "new_text_files = [file for file in new_files if file.endswith('.txt')]"
   ]
  },
  {
   "cell_type": "code",
   "execution_count": 96,
   "metadata": {},
   "outputs": [],
   "source": [
    "for file in new_text_files:\n",
    "    with open(f\"newimages/{file}\", 'r') as f:\n",
    "        responses = [line.strip().split(': ')[1] for line in f.readlines()]\n",
    "        new_rmet[file.split('.')[0]] = responses"
   ]
  },
  {
   "cell_type": "code",
   "execution_count": 97,
   "metadata": {},
   "outputs": [],
   "source": [
    "new_correct = new_rmet.copy()\n",
    "for ppt in new_correct.columns:\n",
    "    new_correct[ppt] = [1 if new_correct[ppt][i] == answers[i] else 0 for i in range(len(answers))]"
   ]
  },
  {
   "cell_type": "code",
   "execution_count": 98,
   "metadata": {},
   "outputs": [
    {
     "data": {
      "text/html": [
       "<div>\n",
       "<style scoped>\n",
       "    .dataframe tbody tr th:only-of-type {\n",
       "        vertical-align: middle;\n",
       "    }\n",
       "\n",
       "    .dataframe tbody tr th {\n",
       "        vertical-align: top;\n",
       "    }\n",
       "\n",
       "    .dataframe thead th {\n",
       "        text-align: right;\n",
       "    }\n",
       "</style>\n",
       "<table border=\"1\" class=\"dataframe\">\n",
       "  <thead>\n",
       "    <tr style=\"text-align: right;\">\n",
       "      <th></th>\n",
       "      <th>B494-newimages</th>\n",
       "      <th>B503-newimages</th>\n",
       "      <th>B505-newimages</th>\n",
       "    </tr>\n",
       "  </thead>\n",
       "  <tbody>\n",
       "    <tr>\n",
       "      <th>0</th>\n",
       "      <td>1</td>\n",
       "      <td>1</td>\n",
       "      <td>1</td>\n",
       "    </tr>\n",
       "    <tr>\n",
       "      <th>1</th>\n",
       "      <td>0</td>\n",
       "      <td>0</td>\n",
       "      <td>0</td>\n",
       "    </tr>\n",
       "    <tr>\n",
       "      <th>2</th>\n",
       "      <td>0</td>\n",
       "      <td>0</td>\n",
       "      <td>0</td>\n",
       "    </tr>\n",
       "    <tr>\n",
       "      <th>3</th>\n",
       "      <td>0</td>\n",
       "      <td>1</td>\n",
       "      <td>0</td>\n",
       "    </tr>\n",
       "    <tr>\n",
       "      <th>4</th>\n",
       "      <td>1</td>\n",
       "      <td>1</td>\n",
       "      <td>0</td>\n",
       "    </tr>\n",
       "  </tbody>\n",
       "</table>\n",
       "</div>"
      ],
      "text/plain": [
       "   B494-newimages  B503-newimages  B505-newimages\n",
       "0               1               1               1\n",
       "1               0               0               0\n",
       "2               0               0               0\n",
       "3               0               1               0\n",
       "4               1               1               0"
      ]
     },
     "execution_count": 98,
     "metadata": {},
     "output_type": "execute_result"
    }
   ],
   "source": [
    "new_correct.head()"
   ]
  },
  {
   "cell_type": "code",
   "execution_count": 99,
   "metadata": {},
   "outputs": [
    {
     "data": {
      "text/plain": [
       "21.333333333333332"
      ]
     },
     "execution_count": 99,
     "metadata": {},
     "output_type": "execute_result"
    }
   ],
   "source": [
    "new_correct.sum().mean()"
   ]
  }
 ],
 "metadata": {
  "kernelspec": {
   "display_name": "Python 3",
   "language": "python",
   "name": "python3"
  },
  "language_info": {
   "codemirror_mode": {
    "name": "ipython",
    "version": 3
   },
   "file_extension": ".py",
   "mimetype": "text/x-python",
   "name": "python",
   "nbconvert_exporter": "python",
   "pygments_lexer": "ipython3",
   "version": "3.11.7"
  }
 },
 "nbformat": 4,
 "nbformat_minor": 2
}
